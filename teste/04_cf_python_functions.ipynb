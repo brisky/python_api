{
 "cells": [
  {
   "cell_type": "markdown",
   "id": "6b72c53e-d641-4a41-ad6d-ff45bfb6a5c6",
   "metadata": {},
   "source": [
    "# Python functions\n",
    "\n",
    "> by: __César Freire__ | 20231207"
   ]
  },
  {
   "cell_type": "code",
   "execution_count": 2,
   "id": "caa2516c-aaac-4f05-aa50-09833b42bf7e",
   "metadata": {},
   "outputs": [
    {
     "name": "stdout",
     "output_type": "stream",
     "text": [
      "5\n"
     ]
    }
   ],
   "source": [
    "def my_sum(a, b):\n",
    "    print(a+b)\n",
    "\n",
    "my_sum(2,3)"
   ]
  },
  {
   "cell_type": "code",
   "execution_count": 3,
   "id": "2973c8fe-0a37-4376-a88a-6762be04ce77",
   "metadata": {},
   "outputs": [
    {
     "data": {
      "text/plain": [
       "9"
      ]
     },
     "execution_count": 3,
     "metadata": {},
     "output_type": "execute_result"
    }
   ],
   "source": [
    "def my_sum(a, b):  # better approach\n",
    "    return a + b\n",
    "\n",
    "my_sum(4,5)"
   ]
  },
  {
   "cell_type": "code",
   "execution_count": 10,
   "id": "0f7f931d-8ce9-4ca3-b68b-5b3f92132450",
   "metadata": {},
   "outputs": [
    {
     "name": "stdout",
     "output_type": "stream",
     "text": [
      "None\n"
     ]
    }
   ],
   "source": [
    "def dummy():\n",
    "    pass\n",
    "    # return None\n",
    "\n",
    "print(dummy())  # return None"
   ]
  },
  {
   "cell_type": "code",
   "execution_count": 16,
   "id": "26c2d5c5-0759-43e9-bc62-71551bd92571",
   "metadata": {},
   "outputs": [
    {
     "data": {
      "text/plain": [
       "30"
      ]
     },
     "execution_count": 16,
     "metadata": {},
     "output_type": "execute_result"
    }
   ],
   "source": [
    "def my_sum(a, b):  # positional arguments\n",
    "    \"\"\"It sum's two numbers \n",
    "    :params a, b -> ints\n",
    "    \n",
    "    \"\"\"\n",
    "    return a + b\n",
    "\n",
    "my_sum(10,20)"
   ]
  },
  {
   "cell_type": "code",
   "execution_count": 19,
   "id": "1aa70dc0-382e-46f7-b9fd-ff7c2c113058",
   "metadata": {},
   "outputs": [
    {
     "data": {
      "text/plain": [
       "9"
      ]
     },
     "execution_count": 19,
     "metadata": {},
     "output_type": "execute_result"
    }
   ],
   "source": [
    "my_sum(b=4, a=5)  # keyword arguments"
   ]
  },
  {
   "cell_type": "code",
   "execution_count": 21,
   "id": "6d57040e-b15f-4fea-aa85-104759ebd921",
   "metadata": {},
   "outputs": [
    {
     "data": {
      "text/plain": [
       "4.333"
      ]
     },
     "execution_count": 21,
     "metadata": {},
     "output_type": "execute_result"
    }
   ],
   "source": [
    "def my_round(value, digits=3):  # default argument\n",
    "    return round(value, digits)\n",
    "\n",
    "my_round(value=4.3333333)"
   ]
  },
  {
   "cell_type": "code",
   "execution_count": 22,
   "id": "1ea68298-197b-461a-9af5-e21b88258169",
   "metadata": {},
   "outputs": [
    {
     "data": {
      "text/plain": [
       "4.3"
      ]
     },
     "execution_count": 22,
     "metadata": {},
     "output_type": "execute_result"
    }
   ],
   "source": [
    "my_round(value=4.3333333, digits=1)"
   ]
  },
  {
   "cell_type": "code",
   "execution_count": 24,
   "id": "ce9ac412-33ee-4097-a20d-89f25507a117",
   "metadata": {},
   "outputs": [
    {
     "data": {
      "text/plain": [
       "1.11"
      ]
     },
     "execution_count": 24,
     "metadata": {},
     "output_type": "execute_result"
    }
   ],
   "source": [
    "my_round(1.11111, digits=2)"
   ]
  },
  {
   "cell_type": "code",
   "execution_count": 26,
   "id": "32cda158-d567-4c7a-a7cf-b021d8fafdd0",
   "metadata": {},
   "outputs": [],
   "source": [
    "# Giver un error\n",
    "# my_round(digits=3, 1.11111)\n",
    "# SyntaxError: positional argument follows keyword argument"
   ]
  },
  {
   "cell_type": "markdown",
   "id": "3c73cd19-55d8-4feb-815a-6467331917fe",
   "metadata": {},
   "source": [
    "## Function hints"
   ]
  },
  {
   "cell_type": "code",
   "execution_count": 41,
   "id": "3b878eb8-2d3d-4b60-ab86-636a923f274c",
   "metadata": {},
   "outputs": [
    {
     "data": {
      "text/plain": [
       "4"
      ]
     },
     "execution_count": 41,
     "metadata": {},
     "output_type": "execute_result"
    }
   ],
   "source": [
    "def my_sum(a: int, b=0) -> int:\n",
    "    return a + b\n",
    "\n",
    "my_sum(4)"
   ]
  },
  {
   "cell_type": "markdown",
   "id": "45128a06-a4a3-4a96-b380-0e7c6f9d39e1",
   "metadata": {},
   "source": [
    "## Local variable vs global variables"
   ]
  },
  {
   "cell_type": "code",
   "execution_count": 50,
   "id": "eb369046-a2d3-424a-921a-49fd1f0638c2",
   "metadata": {},
   "outputs": [
    {
     "data": {
      "text/plain": [
       "6"
      ]
     },
     "execution_count": 50,
     "metadata": {},
     "output_type": "execute_result"
    }
   ],
   "source": [
    "a = 6\n",
    "\n",
    "def showA():\n",
    "    return a  # read global\n",
    "\n",
    "showA()"
   ]
  },
  {
   "cell_type": "code",
   "execution_count": 52,
   "id": "3d3f2df8-d2ee-401f-ae3b-835ad0da91f4",
   "metadata": {},
   "outputs": [
    {
     "data": {
      "text/plain": [
       "6"
      ]
     },
     "execution_count": 52,
     "metadata": {},
     "output_type": "execute_result"
    }
   ],
   "source": [
    "a = 5\n",
    "def incA():\n",
    "    global a  # allow to write\n",
    "    a = a + 1\n",
    "    return a\n",
    "\n",
    "incA()"
   ]
  },
  {
   "cell_type": "code",
   "execution_count": 55,
   "id": "af8f3bb0-747a-40d1-970c-35a8b97e0f4c",
   "metadata": {},
   "outputs": [
    {
     "data": {
      "text/plain": [
       "5"
      ]
     },
     "execution_count": 55,
     "metadata": {},
     "output_type": "execute_result"
    }
   ],
   "source": [
    "a = 3\n",
    "def show_another_a():\n",
    "    a = 5  # local\n",
    "    return a\n",
    "\n",
    "show_another_a()"
   ]
  },
  {
   "cell_type": "code",
   "execution_count": 56,
   "id": "d8fd5062-45a7-4638-9dfe-aabe4e3f08aa",
   "metadata": {},
   "outputs": [
    {
     "data": {
      "text/plain": [
       "3"
      ]
     },
     "execution_count": 56,
     "metadata": {},
     "output_type": "execute_result"
    }
   ],
   "source": [
    "a  # global"
   ]
  },
  {
   "cell_type": "code",
   "execution_count": 57,
   "id": "8770cb1a-56a3-49d7-a0c9-ddb524a865bc",
   "metadata": {},
   "outputs": [],
   "source": [
    "Income_tax = 12.4  # global variable"
   ]
  },
  {
   "cell_type": "code",
   "execution_count": 58,
   "id": "5d2c3ac7-2902-4a25-84dd-19bb889d757a",
   "metadata": {},
   "outputs": [],
   "source": [
    "INCOME_MAX = 34  # constant"
   ]
  },
  {
   "cell_type": "code",
   "execution_count": 68,
   "id": "b3abdd42-28f3-4687-a17d-f8c586a55650",
   "metadata": {},
   "outputs": [],
   "source": [
    "a = [1,2,3]\n",
    "\n",
    "def change(l: list):\n",
    "    del l[:]\n",
    "\n",
    "change(a)"
   ]
  },
  {
   "cell_type": "markdown",
   "id": "1df126de-8efe-4811-bf08-43a77d199667",
   "metadata": {},
   "source": [
    "## Exercise: celsius"
   ]
  },
  {
   "cell_type": "code",
   "execution_count": 35,
   "id": "001e608e-8ed1-4ed6-aab4-bb154ba28239",
   "metadata": {},
   "outputs": [],
   "source": [
    "def celsius_to_fahrenheit(temperature, digits=3):\n",
    "    \"\"\" Converts degrees celsius to fahrenheit \"\"\"\n",
    "\n",
    "    ZERO_KELVIN = -273.15\n",
    "    \n",
    "    if not isinstance(temperature, (float, int) ):\n",
    "        raise TypeError('Temperature must be float or int')\n",
    "\n",
    "    if temperature < ZERO_KELVIN:\n",
    "        raise ValueError('Temperature bellow 0 Kelvin')\n",
    "        \n",
    "    return round(temperature * 9/5 + 32, digits)"
   ]
  },
  {
   "cell_type": "code",
   "execution_count": 14,
   "id": "ac4b3c97-1492-45f9-a5a0-fc4e2c5d636e",
   "metadata": {},
   "outputs": [
    {
     "name": "stdout",
     "output_type": "stream",
     "text": [
      "Temperature must be float or int\n"
     ]
    }
   ],
   "source": [
    "try:\n",
    "    celsius_to_fahrenheit('abc')\n",
    "except TypeError as e:\n",
    "    print(e)"
   ]
  },
  {
   "cell_type": "code",
   "execution_count": 33,
   "id": "86916220-40c1-4be7-92c1-b27c3392d5fe",
   "metadata": {},
   "outputs": [
    {
     "name": "stdout",
     "output_type": "stream",
     "text": [
      "Temperature bellow 0 Kelvin\n"
     ]
    }
   ],
   "source": [
    "try:\n",
    "    celsius_to_fahrenheit(-1000)\n",
    "except TypeError as e:\n",
    "    print(e)  # diferent messages\n",
    "except ValueError as e:\n",
    "    print(e)\n",
    "except Exception as e:\n",
    "    print('Error')"
   ]
  },
  {
   "cell_type": "code",
   "execution_count": 26,
   "id": "809c7589-06db-4b43-98f6-f7e39c938da2",
   "metadata": {},
   "outputs": [],
   "source": [
    "try:\n",
    "    celsius_to_fahrenheit(-100)\n",
    "except (TypeError, ValueError) as e:\n",
    "    print(e)  # same message"
   ]
  },
  {
   "cell_type": "code",
   "execution_count": 32,
   "id": "a5b57a3c-9d90-4cf1-beb5-4cf5fd39cbac",
   "metadata": {},
   "outputs": [
    {
     "name": "stdout",
     "output_type": "stream",
     "text": [
      "Temperature bellow 0 Kelvin\n"
     ]
    }
   ],
   "source": [
    "try:\n",
    "    celsius_to_fahrenheit(-1000)\n",
    "except Exception as e:  # bad approach\n",
    "    print(e)"
   ]
  },
  {
   "cell_type": "markdown",
   "id": "bf326514-a123-480a-8f8b-cb796d9c1c03",
   "metadata": {},
   "source": [
    "## super goto"
   ]
  },
  {
   "cell_type": "code",
   "execution_count": 52,
   "id": "fc149d5c-40c6-4b73-9c31-47eb6e5ac650",
   "metadata": {},
   "outputs": [],
   "source": [
    "def open_file():\n",
    "\n",
    "    with open('xpto.txt') as file:\n",
    "        try:\n",
    "            print(4/0)\n",
    "        except ZeroDivisionError:\n",
    "            raise\n",
    "        finally:\n",
    "            print('close file')"
   ]
  },
  {
   "cell_type": "code",
   "execution_count": 53,
   "id": "233783ef-6c58-411d-ac83-81a4d3b25957",
   "metadata": {},
   "outputs": [
    {
     "name": "stdout",
     "output_type": "stream",
     "text": [
      "close file\n"
     ]
    }
   ],
   "source": [
    "try:\n",
    "    open_file()\n",
    "except ZeroDivisionError:\n",
    "    pass"
   ]
  }
 ],
 "metadata": {
  "kernelspec": {
   "display_name": "Python 3 (ipykernel)",
   "language": "python",
   "name": "python3"
  },
  "language_info": {
   "codemirror_mode": {
    "name": "ipython",
    "version": 3
   },
   "file_extension": ".py",
   "mimetype": "text/x-python",
   "name": "python",
   "nbconvert_exporter": "python",
   "pygments_lexer": "ipython3",
   "version": "3.11.6"
  }
 },
 "nbformat": 4,
 "nbformat_minor": 5
}
