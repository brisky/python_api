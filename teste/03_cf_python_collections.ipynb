{
 "cells": [
  {
   "cell_type": "markdown",
   "id": "9e594ea6-0b3b-4b41-8760-72c3e9bc50e0",
   "metadata": {},
   "source": [
    "# Python collections\n",
    "\n",
    "* lists\n",
    "* dictionaries\n",
    "* tuples\n",
    "* sets"
   ]
  },
  {
   "cell_type": "markdown",
   "id": "c8109313-ec8f-423f-9a9d-33ab4cbb9321",
   "metadata": {},
   "source": [
    "## Lists\n",
    "https://www.w3schools.com/python/python_lists.asp"
   ]
  },
  {
   "cell_type": "code",
   "execution_count": 1,
   "id": "633313b3-0118-45f1-a687-b3df9b2c78e8",
   "metadata": {},
   "outputs": [
    {
     "data": {
      "text/plain": [
       "['pen', 'apple', 'pen', 'pineapplepen']"
      ]
     },
     "execution_count": 1,
     "metadata": {},
     "output_type": "execute_result"
    }
   ],
   "source": [
    "this_list = ['pen', 'apple', 'pen', 'pineapplepen']\n",
    "this_list"
   ]
  },
  {
   "cell_type": "code",
   "execution_count": 2,
   "id": "8cee3aae-50d3-4c17-af67-1c6a31d4eb3b",
   "metadata": {},
   "outputs": [
    {
     "data": {
      "text/plain": [
       "list"
      ]
     },
     "execution_count": 2,
     "metadata": {},
     "output_type": "execute_result"
    }
   ],
   "source": [
    "type(this_list)"
   ]
  },
  {
   "cell_type": "code",
   "execution_count": 13,
   "id": "4983d88b-343a-4f67-8278-03979cf1d922",
   "metadata": {},
   "outputs": [],
   "source": [
    "empty_list = []\n",
    "\n",
    "strangle_list = [12, True, 23.4, ['hello', 'world'], 'hello again']\n",
    "\n",
    "double_list = [ [10, 11, 12], ['a', 'b', 'c'], strangle_list ]\n"
   ]
  },
  {
   "cell_type": "markdown",
   "id": "93dbc77c-e64a-4a44-85f7-0b758f511850",
   "metadata": {},
   "source": [
    "### Access to items"
   ]
  },
  {
   "cell_type": "code",
   "execution_count": 5,
   "id": "8a260e49-9af9-488e-99f0-1b5a954fedce",
   "metadata": {},
   "outputs": [
    {
     "data": {
      "text/plain": [
       "'pen'"
      ]
     },
     "execution_count": 5,
     "metadata": {},
     "output_type": "execute_result"
    }
   ],
   "source": [
    "this_list[0]  # first item"
   ]
  },
  {
   "cell_type": "code",
   "execution_count": 7,
   "id": "d318d347-c364-4833-b940-1897581b4056",
   "metadata": {},
   "outputs": [
    {
     "data": {
      "text/plain": [
       "'pineapplepen'"
      ]
     },
     "execution_count": 7,
     "metadata": {},
     "output_type": "execute_result"
    }
   ],
   "source": [
    "this_list[-1]  # last item"
   ]
  },
  {
   "cell_type": "code",
   "execution_count": 9,
   "id": "00e24e5a-5126-4b42-b600-383ae4e34cfa",
   "metadata": {},
   "outputs": [
    {
     "data": {
      "text/plain": [
       "'world'"
      ]
     },
     "execution_count": 9,
     "metadata": {},
     "output_type": "execute_result"
    }
   ],
   "source": [
    "strangle_list[-2][-1]"
   ]
  },
  {
   "cell_type": "code",
   "execution_count": null,
   "id": "be1ba7a5-9d22-416f-a168-10bf883078b0",
   "metadata": {},
   "outputs": [],
   "source": [
    "# ex from double_list -> 'hello again'\n",
    "double_list[-1][-1]"
   ]
  },
  {
   "cell_type": "markdown",
   "id": "047cb96c-151a-4611-90be-902ed356a276",
   "metadata": {},
   "source": [
    "### List slicing"
   ]
  },
  {
   "cell_type": "code",
   "execution_count": 10,
   "id": "f4a65c77-9a2b-4f47-8cc4-f43191366e71",
   "metadata": {},
   "outputs": [
    {
     "data": {
      "text/plain": [
       "[12, True]"
      ]
     },
     "execution_count": 10,
     "metadata": {},
     "output_type": "execute_result"
    }
   ],
   "source": [
    "strangle_list[0:2]"
   ]
  },
  {
   "cell_type": "code",
   "execution_count": 18,
   "id": "e4c41bb1-2d7c-477c-9e29-461a1661dee8",
   "metadata": {},
   "outputs": [
    {
     "data": {
      "text/plain": [
       "[['a', 'b', 'c']]"
      ]
     },
     "execution_count": 18,
     "metadata": {},
     "output_type": "execute_result"
    }
   ],
   "source": [
    "double_list[1:2]"
   ]
  },
  {
   "cell_type": "code",
   "execution_count": null,
   "id": "27b921e4-fd84-47fb-aa7e-d6798bc88f84",
   "metadata": {},
   "outputs": [],
   "source": [
    "this_list[-3:-1]"
   ]
  },
  {
   "cell_type": "code",
   "execution_count": 24,
   "id": "d061b745-bbbd-4245-9e5e-cbb14d9ad3d2",
   "metadata": {},
   "outputs": [
    {
     "data": {
      "text/plain": [
       "['pen', 'apple', 'pen']"
      ]
     },
     "execution_count": 24,
     "metadata": {},
     "output_type": "execute_result"
    }
   ],
   "source": [
    "this_list[:3]"
   ]
  },
  {
   "cell_type": "markdown",
   "id": "f3a32739-1ca0-4362-aee0-a684ae15de2e",
   "metadata": {},
   "source": [
    "### Brent price exercise\n",
    "* first day price\n",
    "* last day price\n",
    "* mean of all days\n",
    "* first 10 day average\n",
    "* last 10 day average"
   ]
  },
  {
   "cell_type": "code",
   "execution_count": 26,
   "id": "b7d97a52-1ea9-40b5-8e66-9779112fe6ae",
   "metadata": {
    "editable": true,
    "slideshow": {
     "slide_type": ""
    },
    "tags": []
   },
   "outputs": [],
   "source": [
    "brent_price = [54.06, 53.23, 55.64, 57.1, 56.91, 59.46, 60.47, 59.24, 58.8, 58.65, 59.81, 59.85, 62.04, 62.18, 60.9, 61.05, \n",
    "61.09, 61.49, 59.71, 60.98, 61.89, 62.46, 61.86, 62.26, 61.67, 62.22, 61.01, 61.37, 61.3, 62.58, 63.27, 64.0, 65.65, 66.41, \n",
    "65.86, 66.82, 66.91, 66.91, 64.02, 64.51, 65.55, 65.03, 63.71, 64.44, 64.24, 64.51, 64.82, 65.66, 65.06, 65.33, 65.89, \n",
    "66.18, 66.11, 66.65, 67.13, 68.35, 68.3, 66.29, 67.37, 67.51, 67.35, 66.08, 67.93, 69.08]"
   ]
  },
  {
   "cell_type": "code",
   "execution_count": 32,
   "id": "062f727f-392e-44f6-961d-837d9adfbfb7",
   "metadata": {},
   "outputs": [
    {
     "data": {
      "text/plain": [
       "[67.51, 67.35, 66.08, 67.93, 69.08]"
      ]
     },
     "execution_count": 32,
     "metadata": {},
     "output_type": "execute_result"
    }
   ],
   "source": [
    "brent_price[-5:]"
   ]
  },
  {
   "cell_type": "code",
   "execution_count": 28,
   "id": "104d58a8-3efa-4128-98d5-1efb7e5051f3",
   "metadata": {},
   "outputs": [
    {
     "name": "stdout",
     "output_type": "stream",
     "text": [
      "First day price is: 54.06 USD\n",
      "Last day price is: 69.08 USD\n",
      "Average all days: 63.19 USD\n",
      "First 10 days: 57.36 USD\n",
      "Lays 10 days: 67.37 USD\n"
     ]
    }
   ],
   "source": [
    "from statistics import mean\n",
    "\n",
    "DAYS = 10\n",
    "\n",
    "print(f'First day price is: {brent_price[0]} USD')\n",
    "print(f'Last day price is: {brent_price[-1]} USD')\n",
    "print(f'Average all days: {mean(brent_price):.2f} USD')\n",
    "print(f'First {DAYS} days: {mean(brent_price[:DAYS]):.2f} USD')\n",
    "print(f'Lays {DAYS} days: {mean(brent_price[-DAYS:-1]):.2f} USD')"
   ]
  },
  {
   "cell_type": "markdown",
   "id": "5140fba6-542e-44b7-b8bf-883c83a866bc",
   "metadata": {},
   "source": [
    "### List methods"
   ]
  },
  {
   "cell_type": "code",
   "execution_count": 33,
   "id": "845ef22e-651b-4318-b9fe-5bb998334181",
   "metadata": {},
   "outputs": [
    {
     "data": {
      "text/plain": [
       "[54.06,\n",
       " 53.23,\n",
       " 55.64,\n",
       " 57.1,\n",
       " 56.91,\n",
       " 59.46,\n",
       " 60.47,\n",
       " 59.24,\n",
       " 58.8,\n",
       " 58.65,\n",
       " 59.81,\n",
       " 59.85,\n",
       " 62.04,\n",
       " 62.18,\n",
       " 60.9,\n",
       " 61.05,\n",
       " 61.09,\n",
       " 61.49,\n",
       " 59.71,\n",
       " 60.98,\n",
       " 61.89,\n",
       " 62.46,\n",
       " 61.86,\n",
       " 62.26,\n",
       " 61.67,\n",
       " 62.22,\n",
       " 61.01,\n",
       " 61.37,\n",
       " 61.3,\n",
       " 62.58,\n",
       " 63.27,\n",
       " 64.0,\n",
       " 65.65,\n",
       " 66.41,\n",
       " 65.86,\n",
       " 66.82,\n",
       " 66.91,\n",
       " 66.91,\n",
       " 64.02,\n",
       " 64.51,\n",
       " 65.55,\n",
       " 65.03,\n",
       " 63.71,\n",
       " 64.44,\n",
       " 64.24,\n",
       " 64.51,\n",
       " 64.82,\n",
       " 65.66,\n",
       " 65.06,\n",
       " 65.33,\n",
       " 65.89,\n",
       " 66.18,\n",
       " 66.11,\n",
       " 66.65,\n",
       " 67.13,\n",
       " 68.35,\n",
       " 68.3,\n",
       " 66.29,\n",
       " 67.37,\n",
       " 67.51,\n",
       " 67.35,\n",
       " 66.08,\n",
       " 67.93,\n",
       " 69.08,\n",
       " 72.4]"
      ]
     },
     "execution_count": 33,
     "metadata": {},
     "output_type": "execute_result"
    }
   ],
   "source": [
    "brent_price.append(72.4) # add on last position\n",
    "brent_price."
   ]
  },
  {
   "cell_type": "code",
   "execution_count": 34,
   "id": "befe2ab5-aceb-4f16-8df9-0064d9ba59aa",
   "metadata": {},
   "outputs": [
    {
     "data": {
      "text/plain": [
       "72.4"
      ]
     },
     "execution_count": 34,
     "metadata": {},
     "output_type": "execute_result"
    }
   ],
   "source": [
    "brent_price.pop()"
   ]
  },
  {
   "cell_type": "code",
   "execution_count": 35,
   "id": "91aa06c1-2e8e-4604-b0d6-8f9e3521f351",
   "metadata": {},
   "outputs": [
    {
     "data": {
      "text/plain": [
       "2"
      ]
     },
     "execution_count": 35,
     "metadata": {},
     "output_type": "execute_result"
    }
   ],
   "source": [
    "this_list.count('pen')"
   ]
  },
  {
   "cell_type": "markdown",
   "id": "6376670c-55fa-4936-ac47-a84927309710",
   "metadata": {},
   "source": [
    "## Memory with lists\n"
   ]
  },
  {
   "cell_type": "code",
   "execution_count": 36,
   "id": "f3625cb1-06f9-4bc6-92f9-dbb185ec8d53",
   "metadata": {},
   "outputs": [
    {
     "data": {
      "text/plain": [
       "10"
      ]
     },
     "execution_count": 36,
     "metadata": {},
     "output_type": "execute_result"
    }
   ],
   "source": [
    "a = 10\n",
    "b = a\n",
    "a = 5\n",
    "b"
   ]
  },
  {
   "cell_type": "code",
   "execution_count": 37,
   "id": "bf5350cb-1fe9-4b27-a496-cc5a3dec468f",
   "metadata": {},
   "outputs": [
    {
     "data": {
      "text/plain": [
       "[1, 2, 3, 4]"
      ]
     },
     "execution_count": 37,
     "metadata": {},
     "output_type": "execute_result"
    }
   ],
   "source": [
    "a = [1,2,3]\n",
    "b = a\n",
    "b.append(4)\n",
    "a"
   ]
  },
  {
   "cell_type": "code",
   "execution_count": 42,
   "id": "a33e16ed-a73b-4a03-aff7-766e95bf9905",
   "metadata": {},
   "outputs": [
    {
     "data": {
      "text/plain": [
       "[1, 2, 3]"
      ]
     },
     "execution_count": 42,
     "metadata": {},
     "output_type": "execute_result"
    }
   ],
   "source": [
    "x = [1, 2, 3]\n",
    "y = x[:]  # copy\n",
    "x.append(4)\n",
    "del x\n"
   ]
  },
  {
   "cell_type": "code",
   "execution_count": 43,
   "id": "956ff10d-1075-42f0-8ae2-3a1fb40f593b",
   "metadata": {},
   "outputs": [
    {
     "data": {
      "text/plain": [
       "[1, 2, 3]"
      ]
     },
     "execution_count": 43,
     "metadata": {},
     "output_type": "execute_result"
    }
   ],
   "source": [
    "x = [1,2,3]\n",
    "y = x\n",
    "del x\n",
    "y"
   ]
  },
  {
   "cell_type": "code",
   "execution_count": null,
   "id": "05d5f65f-8b1c-487f-a97f-2594eb711f0b",
   "metadata": {},
   "outputs": [],
   "source": [
    "x = [1,2,3]\n",
    "y = x.copy()  # copy\n",
    "del x\n",
    "y"
   ]
  },
  {
   "cell_type": "code",
   "execution_count": 60,
   "id": "af2b40b7-bfb8-4264-8fb7-a717029d59ea",
   "metadata": {},
   "outputs": [],
   "source": [
    "def fun():\n",
    "    f = 10\n",
    "    return f"
   ]
  },
  {
   "cell_type": "code",
   "execution_count": 59,
   "id": "0c1d99af-ac8d-4346-8a26-6042ecdfbf79",
   "metadata": {},
   "outputs": [
    {
     "name": "stdout",
     "output_type": "stream",
     "text": [
      "10\n",
      "20\n",
      "30\n",
      "40\n",
      "50\n",
      "60\n",
      "70\n",
      "80\n",
      "90\n"
     ]
    }
   ],
   "source": [
    "for x in range(1,10):\n",
    "    print(x * fun())"
   ]
  },
  {
   "cell_type": "markdown",
   "id": "af7bc144-aecd-40f6-ac05-8d9fabfa3d50",
   "metadata": {},
   "source": [
    "### List comprehension"
   ]
  },
  {
   "cell_type": "code",
   "execution_count": 62,
   "id": "788be9f2-bc48-4c80-b47a-f6fdd1e0a44a",
   "metadata": {},
   "outputs": [
    {
     "data": {
      "text/plain": [
       "[4, 16, 36, 64, 100]"
      ]
     },
     "execution_count": 62,
     "metadata": {},
     "output_type": "execute_result"
    }
   ],
   "source": [
    "# motivation\n",
    "my_list = []\n",
    "for x in range(1,11):\n",
    "    if x % 2 == 0:  # even number\n",
    "        my_list.append(x**2)\n",
    "\n",
    "my_list"
   ]
  },
  {
   "cell_type": "code",
   "execution_count": 63,
   "id": "86e48914-efea-4ebb-a512-d51ef49613a6",
   "metadata": {},
   "outputs": [
    {
     "data": {
      "text/plain": [
       "[4, 16, 36, 64, 100]"
      ]
     },
     "execution_count": 63,
     "metadata": {},
     "output_type": "execute_result"
    }
   ],
   "source": [
    "my_list = [ x**2 for x in range(1,11) if x % 2 == 0 ]\n",
    "my_list"
   ]
  },
  {
   "cell_type": "markdown",
   "id": "7093939e-c0ed-4890-ac9a-0a940747d9cc",
   "metadata": {},
   "source": [
    "## Example: validanif"
   ]
  },
  {
   "cell_type": "code",
   "execution_count": 64,
   "id": "56b54c87-905b-4520-9900-4204fff64e60",
   "metadata": {},
   "outputs": [
    {
     "data": {
      "text/plain": [
       "[9, 72, 42, 42, 10, 32, 24, 8, 3]"
      ]
     },
     "execution_count": 64,
     "metadata": {},
     "output_type": "execute_result"
    }
   ],
   "source": [
    "# ex 1\n",
    "nif = '196728843'\n",
    "\n",
    "total = []\n",
    "for x in range(len(nif)):\n",
    "    # print(nif[x])\n",
    "    total.append(int(nif[x]) * (9-x))\n",
    "\n",
    "total"
   ]
  },
  {
   "cell_type": "code",
   "execution_count": 65,
   "id": "4b90252e-a559-4a4b-a93d-c3f4fef3ce75",
   "metadata": {},
   "outputs": [
    {
     "data": {
      "text/plain": [
       "242"
      ]
     },
     "execution_count": 65,
     "metadata": {},
     "output_type": "execute_result"
    }
   ],
   "source": [
    "sum(total)"
   ]
  },
  {
   "cell_type": "code",
   "execution_count": 66,
   "id": "cc095e64-857b-4068-8e0d-fcb08298711e",
   "metadata": {},
   "outputs": [
    {
     "data": {
      "text/plain": [
       "0"
      ]
     },
     "execution_count": 66,
     "metadata": {},
     "output_type": "execute_result"
    }
   ],
   "source": [
    "sum(total) % 11"
   ]
  },
  {
   "cell_type": "code",
   "execution_count": 68,
   "id": "b9245b3b-540d-48fd-9852-2117821db23d",
   "metadata": {},
   "outputs": [
    {
     "name": "stdout",
     "output_type": "stream",
     "text": [
      "The Zen of Python, by Tim Peters\n",
      "\n",
      "Beautiful is better than ugly.\n",
      "Explicit is better than implicit.\n",
      "Simple is better than complex.\n",
      "Complex is better than complicated.\n",
      "Flat is better than nested.\n",
      "Sparse is better than dense.\n",
      "Readability counts.\n",
      "Special cases aren't special enough to break the rules.\n",
      "Although practicality beats purity.\n",
      "Errors should never pass silently.\n",
      "Unless explicitly silenced.\n",
      "In the face of ambiguity, refuse the temptation to guess.\n",
      "There should be one-- and preferably only one --obvious way to do it.\n",
      "Although that way may not be obvious at first unless you're Dutch.\n",
      "Now is better than never.\n",
      "Although never is often better than *right* now.\n",
      "If the implementation is hard to explain, it's a bad idea.\n",
      "If the implementation is easy to explain, it may be a good idea.\n",
      "Namespaces are one honking great idea -- let's do more of those!\n"
     ]
    }
   ],
   "source": [
    "import this"
   ]
  },
  {
   "cell_type": "code",
   "execution_count": 67,
   "id": "7d192162-d969-4ca0-aa70-0814d2c3023b",
   "metadata": {},
   "outputs": [
    {
     "data": {
      "text/plain": [
       "0"
      ]
     },
     "execution_count": 67,
     "metadata": {},
     "output_type": "execute_result"
    }
   ],
   "source": [
    "sum([ int(nif[x]) * (9-x) for x in range(len(nif)) ]) % 11"
   ]
  },
  {
   "cell_type": "markdown",
   "id": "f23dd341-3dbc-4558-82c4-4c165b6cfa7f",
   "metadata": {},
   "source": [
    "### List iterator"
   ]
  },
  {
   "cell_type": "code",
   "execution_count": 75,
   "id": "8fa010a4-8e89-4d98-aa6d-9cd8e0e99213",
   "metadata": {},
   "outputs": [
    {
     "name": "stdout",
     "output_type": "stream",
     "text": [
      "33 >>> 66.41 35 >>> 66.82 36 >>> 66.91 37 >>> 66.91 51 >>> 66.18 52 >>> 66.11 53 >>> 66.65 54 >>> 67.13 55 >>> 68.35 56 >>> 68.3 57 >>> 66.29 58 >>> 67.37 59 >>> 67.51 60 >>> 67.35 61 >>> 66.08 62 >>> 67.93 63 >>> 69.08 "
     ]
    }
   ],
   "source": [
    "a = 0\n",
    "for value in brent_price:\n",
    "    if value > 66:\n",
    "        print(a,'>>>' ,value, end=' ')\n",
    "    a += 1"
   ]
  },
  {
   "cell_type": "markdown",
   "id": "435f399e-341c-4d19-a9fe-c632d8eb3fff",
   "metadata": {},
   "source": [
    "#### unpack"
   ]
  },
  {
   "cell_type": "code",
   "execution_count": 79,
   "id": "80600b47-81c2-4e8f-a809-0785160c0a69",
   "metadata": {},
   "outputs": [
    {
     "data": {
      "text/plain": [
       "1"
      ]
     },
     "execution_count": 79,
     "metadata": {},
     "output_type": "execute_result"
    }
   ],
   "source": [
    "a = [1,2,3]\n",
    "x, y, z = a\n",
    "x"
   ]
  },
  {
   "cell_type": "code",
   "execution_count": 80,
   "id": "1f94d67b-556c-4f57-846e-442c0a855347",
   "metadata": {},
   "outputs": [
    {
     "name": "stdout",
     "output_type": "stream",
     "text": [
      "33#66.41 | 35#66.82 | 36#66.91 | 37#66.91 | 51#66.18 | 52#66.11 | 53#66.65 | 54#67.13 | 55#68.35 | 56#68.3 | 57#66.29 | 58#67.37 | 59#67.51 | 60#67.35 | 61#66.08 | 62#67.93 | 63#69.08 | "
     ]
    }
   ],
   "source": [
    "for position, value in enumerate(brent_price):\n",
    "     if value > 66:\n",
    "        print(f'{position}#{value}', end=' | ')"
   ]
  },
  {
   "cell_type": "markdown",
   "id": "140495bf-2f34-41b4-b235-a1e1d77f52f3",
   "metadata": {},
   "source": [
    "## Dictionary"
   ]
  },
  {
   "cell_type": "code",
   "execution_count": 84,
   "id": "5b20e9f6-d1e9-460b-8898-2757da800a67",
   "metadata": {},
   "outputs": [
    {
     "data": {
      "text/plain": [
       "{'USD': 0.94, 'GBP': 1.16, 'AOA': 0.0011, 'BTC': 25574.51}"
      ]
     },
     "execution_count": 84,
     "metadata": {},
     "output_type": "execute_result"
    }
   ],
   "source": [
    "currencies = {'USD':0.94, 'GBP':1.16, 'AOA': 0.0011, 'BTC':25_574.51}\n",
    "currencies"
   ]
  },
  {
   "cell_type": "code",
   "execution_count": 85,
   "id": "fefd3ba5-32f0-470b-b407-8d2e3939674a",
   "metadata": {},
   "outputs": [
    {
     "data": {
      "text/plain": [
       "0.0011"
      ]
     },
     "execution_count": 85,
     "metadata": {},
     "output_type": "execute_result"
    }
   ],
   "source": [
    "currencies['AOA']"
   ]
  },
  {
   "cell_type": "code",
   "execution_count": 86,
   "id": "8f59aefc-8d7a-46b2-b409-7a7d38939999",
   "metadata": {},
   "outputs": [
    {
     "data": {
      "text/plain": [
       "{'USD': 0.95, 'GBP': 1.16, 'AOA': 0.0011, 'BTC': 25574.51}"
      ]
     },
     "execution_count": 86,
     "metadata": {},
     "output_type": "execute_result"
    }
   ],
   "source": [
    "currencies['USD'] = 0.95  # update\n",
    "currencies"
   ]
  },
  {
   "cell_type": "code",
   "execution_count": 87,
   "id": "08995286-4d29-49cf-80e0-c192adb8c86b",
   "metadata": {},
   "outputs": [
    {
     "data": {
      "text/plain": [
       "{'USD': 0.95, 'GBP': 1.16, 'AOA': 0.0011, 'BTC': 25574.51, 'JPY': 0.0063}"
      ]
     },
     "execution_count": 87,
     "metadata": {},
     "output_type": "execute_result"
    }
   ],
   "source": [
    "currencies['JPY'] = 0.0063  # Add\n",
    "currencies"
   ]
  },
  {
   "cell_type": "code",
   "execution_count": 88,
   "id": "5df0e2b1-3189-409f-98d0-ad8544d324e5",
   "metadata": {},
   "outputs": [
    {
     "data": {
      "text/plain": [
       "0.95"
      ]
     },
     "execution_count": 88,
     "metadata": {},
     "output_type": "execute_result"
    }
   ],
   "source": [
    "search = 'USD'\n",
    "currencies[search]"
   ]
  },
  {
   "cell_type": "code",
   "execution_count": 89,
   "id": "043d4e72-f8bb-49ea-adee-a6a1bc04813c",
   "metadata": {},
   "outputs": [
    {
     "name": "stdout",
     "output_type": "stream",
     "text": [
      "USD\n",
      "GBP\n",
      "AOA\n",
      "BTC\n",
      "JPY\n"
     ]
    }
   ],
   "source": [
    "for element in currencies:\n",
    "    print(element)"
   ]
  },
  {
   "cell_type": "code",
   "execution_count": 90,
   "id": "3c74d546-f09d-46c5-ad0e-fc9770b87b38",
   "metadata": {},
   "outputs": [
    {
     "name": "stdout",
     "output_type": "stream",
     "text": [
      "USD 0.95\n",
      "GBP 1.16\n",
      "AOA 0.0011\n",
      "BTC 25574.51\n",
      "JPY 0.0063\n"
     ]
    }
   ],
   "source": [
    "for el in currencies:\n",
    "    print(el, currencies[el])"
   ]
  },
  {
   "cell_type": "code",
   "execution_count": 91,
   "id": "2ca10c11-d87f-468f-aeb3-d6881eca4cf3",
   "metadata": {},
   "outputs": [
    {
     "data": {
      "text/plain": [
       "dict_values([0.95, 1.16, 0.0011, 25574.51, 0.0063])"
      ]
     },
     "execution_count": 91,
     "metadata": {},
     "output_type": "execute_result"
    }
   ],
   "source": [
    "currencies.values()  # list"
   ]
  },
  {
   "cell_type": "code",
   "execution_count": 92,
   "id": "caff8430-1e7c-44ea-abae-13600d6e1a27",
   "metadata": {},
   "outputs": [
    {
     "data": {
      "text/plain": [
       "dict_keys(['USD', 'GBP', 'AOA', 'BTC', 'JPY'])"
      ]
     },
     "execution_count": 92,
     "metadata": {},
     "output_type": "execute_result"
    }
   ],
   "source": [
    "currencies.keys()  # list"
   ]
  },
  {
   "cell_type": "code",
   "execution_count": 93,
   "id": "6d8b0e8e-9331-424c-bc2b-512d7972d36b",
   "metadata": {},
   "outputs": [
    {
     "data": {
      "text/plain": [
       "dict_items([('USD', 0.95), ('GBP', 1.16), ('AOA', 0.0011), ('BTC', 25574.51), ('JPY', 0.0063)])"
      ]
     },
     "execution_count": 93,
     "metadata": {},
     "output_type": "execute_result"
    }
   ],
   "source": [
    "currencies.items()"
   ]
  },
  {
   "cell_type": "code",
   "execution_count": 94,
   "id": "7c41a482-6aeb-498d-97bc-e94b149893c5",
   "metadata": {},
   "outputs": [
    {
     "name": "stdout",
     "output_type": "stream",
     "text": [
      "USD 0.95\n",
      "GBP 1.16\n",
      "AOA 0.0011\n",
      "BTC 25574.51\n",
      "JPY 0.0063\n"
     ]
    }
   ],
   "source": [
    "for el, value in currencies.items():  # unpack\n",
    "    print(el, value)"
   ]
  },
  {
   "cell_type": "markdown",
   "id": "2b2d1f0e-11c1-4d11-921e-d8f2b2e67a4d",
   "metadata": {},
   "source": [
    "### Exercise: curreny convert\n",
    "https://exchangerate.host/#/"
   ]
  },
  {
   "cell_type": "code",
   "execution_count": null,
   "id": "de986e2e-be2b-45a8-81d1-ee27f6dd99d0",
   "metadata": {},
   "outputs": [],
   "source": [
    "import requests\n",
    "\n",
    "url = 'https://api.exchangerate.host/latest'\n",
    "response = requests.get(url)\n",
    "data = response.json()\n",
    "\n",
    "type(data)"
   ]
  },
  {
   "cell_type": "code",
   "execution_count": null,
   "id": "eef8fe75-0e16-4294-8ad4-7ff40f1d4d02",
   "metadata": {},
   "outputs": [],
   "source": [
    "data.keys()"
   ]
  },
  {
   "cell_type": "code",
   "execution_count": null,
   "id": "8dde8129-7ea8-4e91-8dde-10c8843819d0",
   "metadata": {},
   "outputs": [],
   "source": [
    "currencies = data['rates']\n",
    "currencies"
   ]
  },
  {
   "cell_type": "markdown",
   "id": "6beafcd8-fac9-4b3f-9ffb-c914e42ef6f7",
   "metadata": {},
   "source": [
    "### Exercise\n",
    "* ask user for currency\n",
    "* ask user for value\n",
    "* show value convert to EUR"
   ]
  },
  {
   "cell_type": "code",
   "execution_count": null,
   "id": "5babce54-4de0-41e7-9f4b-b57806e146f7",
   "metadata": {},
   "outputs": [],
   "source": [
    "coin = input('Currency:').upper()\n",
    "\n",
    "if coin not in currencies.keys():\n",
    "    print(f'Error: \"{coin}\" not in dictionary')\n",
    "else:\n",
    "    try:\n",
    "        value = float(input('Value:'))\n",
    "        print(f'{value} {coin} = {1 / currencies[coin] * value:.3f} EUR')\n",
    "    except ValueError:\n",
    "        print('Dude! value must be float. Aborting!!!')"
   ]
  },
  {
   "cell_type": "markdown",
   "id": "dcc6a24f-5ceb-48c8-8546-39aa6ee94405",
   "metadata": {},
   "source": [
    "## Tuples"
   ]
  },
  {
   "cell_type": "code",
   "execution_count": 95,
   "id": "dccc15c2-3737-4718-8a10-d4ce48ef35bf",
   "metadata": {},
   "outputs": [
    {
     "data": {
      "text/plain": [
       "tuple"
      ]
     },
     "execution_count": 95,
     "metadata": {},
     "output_type": "execute_result"
    }
   ],
   "source": [
    "my_tuple = (11, 12, 13)\n",
    "type(my_tuple)"
   ]
  },
  {
   "cell_type": "code",
   "execution_count": 98,
   "id": "cfb04f8c-568f-43c7-b81a-543160db75dd",
   "metadata": {},
   "outputs": [
    {
     "data": {
      "text/plain": [
       "int"
      ]
     },
     "execution_count": 98,
     "metadata": {},
     "output_type": "execute_result"
    }
   ],
   "source": [
    "not_a_tuple = (12)\n",
    "type(not_a_tuple)"
   ]
  },
  {
   "cell_type": "code",
   "execution_count": 105,
   "id": "6c76f9ee-cbf5-45a5-b484-9f7089cbaa16",
   "metadata": {},
   "outputs": [
    {
     "data": {
      "text/plain": [
       "tuple"
      ]
     },
     "execution_count": 105,
     "metadata": {},
     "output_type": "execute_result"
    }
   ],
   "source": [
    "now_a_tuple = (12,)\n",
    "type(now_a_tuple)"
   ]
  },
  {
   "cell_type": "code",
   "execution_count": 106,
   "id": "017d3074-9e55-4be9-bb33-485d1c184830",
   "metadata": {},
   "outputs": [
    {
     "data": {
      "text/plain": [
       "1"
      ]
     },
     "execution_count": 106,
     "metadata": {},
     "output_type": "execute_result"
    }
   ],
   "source": [
    "my_tuple.count(12)  # how many"
   ]
  },
  {
   "cell_type": "code",
   "execution_count": 107,
   "id": "43799205-0332-4a56-ad32-437a1c9d64a8",
   "metadata": {},
   "outputs": [
    {
     "data": {
      "text/plain": [
       "2"
      ]
     },
     "execution_count": 107,
     "metadata": {},
     "output_type": "execute_result"
    }
   ],
   "source": [
    "my_tuple.index(13) # where is"
   ]
  },
  {
   "cell_type": "code",
   "execution_count": 108,
   "id": "6ea68928-ae69-40d3-89ba-72e885d1ee5e",
   "metadata": {},
   "outputs": [
    {
     "data": {
      "text/plain": [
       "(12, 11)"
      ]
     },
     "execution_count": 108,
     "metadata": {},
     "output_type": "execute_result"
    }
   ],
   "source": [
    "my_tuple = (my_tuple[1], my_tuple[0])\n",
    "my_tuple"
   ]
  },
  {
   "cell_type": "code",
   "execution_count": 109,
   "id": "66cf6c35-469f-4bea-b52c-ab7d27200e21",
   "metadata": {},
   "outputs": [
    {
     "data": {
      "text/plain": [
       "23"
      ]
     },
     "execution_count": 109,
     "metadata": {},
     "output_type": "execute_result"
    }
   ],
   "source": [
    "my_tuple[0] + my_tuple[1]"
   ]
  },
  {
   "cell_type": "code",
   "execution_count": 116,
   "id": "7187937e-0ade-4fb7-b128-a28daca61529",
   "metadata": {},
   "outputs": [
    {
     "data": {
      "text/plain": [
       "(11, 12, 14)"
      ]
     },
     "execution_count": 116,
     "metadata": {},
     "output_type": "execute_result"
    }
   ],
   "source": [
    "my_tuple = (11, 12, 13)\n",
    "my_tuple = my_tuple + (14,)\n",
    "my_tuple = my_tuple[0:2] + (my_tuple[3],)\n",
    "my_tuple"
   ]
  },
  {
   "cell_type": "markdown",
   "id": "e205a84b-c701-4009-b16e-594049f29f66",
   "metadata": {},
   "source": [
    "### Tuple motivation"
   ]
  },
  {
   "cell_type": "code",
   "execution_count": 123,
   "id": "922e2bc7-a7ce-4160-929b-27e753f74502",
   "metadata": {},
   "outputs": [],
   "source": [
    "my_list = [x for x in range(10)] \n",
    "my_tuple = (x for x in range(10) )"
   ]
  },
  {
   "cell_type": "code",
   "execution_count": 124,
   "id": "fd0142ec-4ae4-47bb-8b5e-2d723bf9bb71",
   "metadata": {},
   "outputs": [
    {
     "name": "stdout",
     "output_type": "stream",
     "text": [
      "list: 184 Bytes\n",
      "tuple: 200 Bytes\n"
     ]
    }
   ],
   "source": [
    "from sys import getsizeof\n",
    "\n",
    "print(f'list: {getsizeof(my_list)} Bytes')\n",
    "print(f'tuple: {getsizeof(my_tuple)} Bytes')"
   ]
  },
  {
   "cell_type": "code",
   "execution_count": 125,
   "id": "a3482895-5079-42c1-89f7-c1464a5ca032",
   "metadata": {},
   "outputs": [
    {
     "data": {
      "text/plain": [
       "[0, 1, 2, 3, 4, 5, 6, 7, 8, 9]"
      ]
     },
     "execution_count": 125,
     "metadata": {},
     "output_type": "execute_result"
    }
   ],
   "source": [
    "my_list"
   ]
  },
  {
   "cell_type": "code",
   "execution_count": 126,
   "id": "3d0ccaf7-dff9-4d4b-934d-232fda579953",
   "metadata": {},
   "outputs": [
    {
     "data": {
      "text/plain": [
       "<generator object <genexpr> at 0x7f0b00e31630>"
      ]
     },
     "execution_count": 126,
     "metadata": {},
     "output_type": "execute_result"
    }
   ],
   "source": [
    "my_tuple"
   ]
  },
  {
   "cell_type": "code",
   "execution_count": 127,
   "id": "c24517ad-07e5-45d5-bfdc-a0dcefd7236c",
   "metadata": {},
   "outputs": [
    {
     "name": "stdout",
     "output_type": "stream",
     "text": [
      "0\n",
      "1\n",
      "2\n",
      "3\n",
      "4\n",
      "5\n",
      "6\n",
      "7\n",
      "8\n",
      "9\n"
     ]
    }
   ],
   "source": [
    "for x in my_tuple:\n",
    "    print(x)"
   ]
  },
  {
   "cell_type": "code",
   "execution_count": 128,
   "id": "e1b04147-d5a5-40ad-a358-50b290c38cd8",
   "metadata": {},
   "outputs": [],
   "source": [
    "for x in my_tuple:  # empty\n",
    "    print(x)"
   ]
  },
  {
   "cell_type": "code",
   "execution_count": null,
   "id": "ab15676c-a4be-41de-b927-9c4f1bc2b18c",
   "metadata": {},
   "outputs": [],
   "source": [
    "sum([x for x in range(10)])"
   ]
  },
  {
   "cell_type": "code",
   "execution_count": null,
   "id": "0a40f4ac-7ed5-4dcc-8aa3-d53d1d00e405",
   "metadata": {},
   "outputs": [],
   "source": [
    "sum((x for x in range(10) ))"
   ]
  },
  {
   "cell_type": "markdown",
   "id": "2716dbc0-e19b-47d0-a1f3-4b1dd0a27347",
   "metadata": {},
   "source": [
    "## Sets"
   ]
  },
  {
   "cell_type": "code",
   "execution_count": 1,
   "id": "bbe7c44e-69f6-4f1a-ac8a-ebf6d1b26c7d",
   "metadata": {},
   "outputs": [],
   "source": [
    "set1 = {'usd', 'aoa', 'btc'}\n",
    "set2 = {'usd', 'eur', 'jpy', 'usd' }"
   ]
  },
  {
   "cell_type": "code",
   "execution_count": 2,
   "id": "eaf8f916-411a-4601-a8ae-610727a9de45",
   "metadata": {},
   "outputs": [
    {
     "data": {
      "text/plain": [
       "{'aoa', 'btc', 'usd'}"
      ]
     },
     "execution_count": 2,
     "metadata": {},
     "output_type": "execute_result"
    }
   ],
   "source": [
    "set1"
   ]
  },
  {
   "cell_type": "code",
   "execution_count": 3,
   "id": "6c5a9c9f-7ddb-4846-947d-64f20f4d82e6",
   "metadata": {},
   "outputs": [
    {
     "data": {
      "text/plain": [
       "{'eur', 'jpy', 'usd'}"
      ]
     },
     "execution_count": 3,
     "metadata": {},
     "output_type": "execute_result"
    }
   ],
   "source": [
    "set2"
   ]
  },
  {
   "cell_type": "code",
   "execution_count": 4,
   "id": "8820fc22-10a9-4b49-9198-a55ebfcbf797",
   "metadata": {},
   "outputs": [
    {
     "data": {
      "text/plain": [
       "{'usd'}"
      ]
     },
     "execution_count": 4,
     "metadata": {},
     "output_type": "execute_result"
    }
   ],
   "source": [
    "set1.intersection(set2)"
   ]
  },
  {
   "cell_type": "code",
   "execution_count": 5,
   "id": "29dc70fe-02d6-4b2e-8721-746d189b9ba3",
   "metadata": {},
   "outputs": [
    {
     "data": {
      "text/plain": [
       "{'aoa', 'btc', 'eur', 'jpy', 'usd'}"
      ]
     },
     "execution_count": 5,
     "metadata": {},
     "output_type": "execute_result"
    }
   ],
   "source": [
    "set1.union(set2)"
   ]
  },
  {
   "cell_type": "code",
   "execution_count": 6,
   "id": "895ab520-904f-4d0d-bcd6-e3fb3a5c17d2",
   "metadata": {},
   "outputs": [
    {
     "data": {
      "text/plain": [
       "{'aoa', 'btc'}"
      ]
     },
     "execution_count": 6,
     "metadata": {},
     "output_type": "execute_result"
    }
   ],
   "source": [
    "set1.difference(set2)"
   ]
  },
  {
   "cell_type": "code",
   "execution_count": null,
   "id": "c4bb65e1-6920-4fe3-85c0-7bc7dde35e50",
   "metadata": {},
   "outputs": [],
   "source": [
    "# set(currencies.keys())"
   ]
  },
  {
   "cell_type": "code",
   "execution_count": 10,
   "id": "d70c672f-c389-4b64-8a3e-9b1fe0b974fb",
   "metadata": {},
   "outputs": [],
   "source": [
    "x = {str(x):x for x in range(10)}"
   ]
  },
  {
   "cell_type": "code",
   "execution_count": 13,
   "id": "00586673-5626-41e1-9e3e-c5c371764fe3",
   "metadata": {},
   "outputs": [
    {
     "data": {
      "text/plain": [
       "{'0', '1', '2', '3', '4', '5', '6', '7', '8', '9'}"
      ]
     },
     "execution_count": 13,
     "metadata": {},
     "output_type": "execute_result"
    }
   ],
   "source": [
    "set(x.keys())"
   ]
  }
 ],
 "metadata": {
  "kernelspec": {
   "display_name": "Python 3 (ipykernel)",
   "language": "python",
   "name": "python3"
  },
  "language_info": {
   "codemirror_mode": {
    "name": "ipython",
    "version": 3
   },
   "file_extension": ".py",
   "mimetype": "text/x-python",
   "name": "python",
   "nbconvert_exporter": "python",
   "pygments_lexer": "ipython3",
   "version": "3.11.6"
  }
 },
 "nbformat": 4,
 "nbformat_minor": 5
}
