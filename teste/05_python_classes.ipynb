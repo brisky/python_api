{
 "cells": [
  {
   "cell_type": "markdown",
   "id": "5df54d1f-b38d-4ca1-8c75-870e33bb47f5",
   "metadata": {},
   "source": [
    "# Python classes"
   ]
  },
  {
   "cell_type": "markdown",
   "id": "e5764e9d-756b-4df6-8618-0a6c588f5b98",
   "metadata": {},
   "source": [
    "## Motivation to OOP"
   ]
  },
  {
   "cell_type": "code",
   "execution_count": 2,
   "id": "8da1fdcc-82fb-4598-9f60-274aecdd2beb",
   "metadata": {},
   "outputs": [],
   "source": [
    "counter = 0\n",
    "\n",
    "def inc_invalid_logins(counter):\n",
    "    return counter +1\n",
    "\n",
    "def dec_invalid_logins(counter):\n",
    "    return counter -1"
   ]
  },
  {
   "cell_type": "code",
   "execution_count": 5,
   "id": "5514b2eb-ac47-476a-ae03-cf119df28512",
   "metadata": {},
   "outputs": [
    {
     "data": {
      "text/plain": [
       "3"
      ]
     },
     "execution_count": 5,
     "metadata": {},
     "output_type": "execute_result"
    }
   ],
   "source": [
    "counter = inc_invalid_logins(counter)\n",
    "counter"
   ]
  },
  {
   "cell_type": "code",
   "execution_count": 7,
   "id": "0116dc2c-ec74-45c5-a8cc-5aebc1c44189",
   "metadata": {},
   "outputs": [
    {
     "data": {
      "text/plain": [
       "1"
      ]
     },
     "execution_count": 7,
     "metadata": {},
     "output_type": "execute_result"
    }
   ],
   "source": [
    "counter = dec_invalid_logins(counter)\n",
    "counter"
   ]
  },
  {
   "cell_type": "code",
   "execution_count": 11,
   "id": "137ad7a0-6938-43de-ae7f-1f163d84ea28",
   "metadata": {},
   "outputs": [],
   "source": [
    "Counter = 0\n",
    "\n",
    "def inc_invalid_logins():\n",
    "    global Counter\n",
    "    Counter += 1\n",
    "    \n",
    "def dec_invalid_logins():\n",
    "    global Counter\n",
    "    Counter -= 1"
   ]
  },
  {
   "cell_type": "code",
   "execution_count": 15,
   "id": "013ef4d1-f024-4fa4-9588-6f1611af4b83",
   "metadata": {},
   "outputs": [
    {
     "data": {
      "text/plain": [
       "4"
      ]
     },
     "execution_count": 15,
     "metadata": {},
     "output_type": "execute_result"
    }
   ],
   "source": [
    "inc_invalid_logins()\n",
    "Counter"
   ]
  },
  {
   "cell_type": "code",
   "execution_count": 5,
   "id": "3e047d91-6395-4de0-aabc-700f1fb16a8d",
   "metadata": {},
   "outputs": [
    {
     "name": "stdout",
     "output_type": "stream",
     "text": [
      "Variable          Type      Data/Info\n",
      "-------------------------------------\n",
      "version_manager   module    <module 'version_manager'<...>eire/version_manager.py'>\n"
     ]
    }
   ],
   "source": [
    "%whos"
   ]
  },
  {
   "cell_type": "code",
   "execution_count": 18,
   "id": "414639d8-cec5-409f-959a-02b8254f3f29",
   "metadata": {},
   "outputs": [
    {
     "name": "stdout",
     "output_type": "stream",
     "text": [
      "Writing version_manager.py\n"
     ]
    }
   ],
   "source": [
    "%%writefile version_manager.py\n",
    "__version__ = '1.0.0'\n",
    "\n",
    "def get_version():\n",
    "    return Version\n",
    "\n",
    "def inc_minor_version():\n",
    "    global Version\n",
    "    Version = '1.1.0'"
   ]
  },
  {
   "cell_type": "code",
   "execution_count": 4,
   "id": "12c6cfc6-a737-4d19-a17a-e474f7ea69a3",
   "metadata": {},
   "outputs": [
    {
     "data": {
      "text/plain": [
       "'1.0.0'"
      ]
     },
     "execution_count": 4,
     "metadata": {},
     "output_type": "execute_result"
    }
   ],
   "source": [
    "import version_manager\n",
    "\n",
    "version_manager.get_version()"
   ]
  },
  {
   "cell_type": "markdown",
   "id": "4520363d-6f02-4ba5-8a3c-c2d41536a0ef",
   "metadata": {},
   "source": [
    "## Class celsius"
   ]
  },
  {
   "cell_type": "code",
   "execution_count": 6,
   "id": "61f219c1-01e1-4391-bf0f-2051b7acb1bb",
   "metadata": {},
   "outputs": [],
   "source": [
    "class Celsius:\n",
    "    pass"
   ]
  },
  {
   "cell_type": "code",
   "execution_count": 7,
   "id": "e4c551e8-7401-4dd2-904e-f6ddccae52d5",
   "metadata": {},
   "outputs": [],
   "source": [
    "def celsius():\n",
    "    pass"
   ]
  },
  {
   "cell_type": "code",
   "execution_count": 8,
   "id": "6656f384-f80d-4307-8363-d0d7bf5d047e",
   "metadata": {},
   "outputs": [
    {
     "name": "stdout",
     "output_type": "stream",
     "text": [
      "36 ns ± 4.51 ns per loop (mean ± std. dev. of 7 runs, 10,000,000 loops each)\n"
     ]
    }
   ],
   "source": [
    "%timeit celsius()"
   ]
  },
  {
   "cell_type": "code",
   "execution_count": 9,
   "id": "6aa71bb8-fec9-4c15-9ec5-a03014f8f3fb",
   "metadata": {},
   "outputs": [
    {
     "name": "stdout",
     "output_type": "stream",
     "text": [
      "10.9 ns ± 0.459 ns per loop (mean ± std. dev. of 7 runs, 100,000,000 loops each)\n"
     ]
    }
   ],
   "source": [
    "%timeit Celsius"
   ]
  },
  {
   "cell_type": "code",
   "execution_count": 21,
   "id": "ffd6d8eb-8840-40b4-a176-4613eac5456f",
   "metadata": {},
   "outputs": [],
   "source": [
    "class Celsius:\n",
    "\n",
    "    def __init__(self, temperature):\n",
    "        self.temperature = temperature\n",
    "        \n",
    "    def inc_temperature(self):\n",
    "        self.temperature += 1\n",
    "\n",
    "    def dec_temperature(self):\n",
    "        self.temperature -=1"
   ]
  },
  {
   "cell_type": "code",
   "execution_count": 14,
   "id": "61dc8638-507b-4cce-bef8-46f1240c3bdb",
   "metadata": {},
   "outputs": [],
   "source": [
    "room1 = Celsius(27)\n",
    "room1.inc_temperature()"
   ]
  },
  {
   "cell_type": "code",
   "execution_count": 15,
   "id": "3e414e4b-d8e7-4f44-a0b7-47bdd31d1600",
   "metadata": {},
   "outputs": [
    {
     "data": {
      "text/plain": [
       "28"
      ]
     },
     "execution_count": 15,
     "metadata": {},
     "output_type": "execute_result"
    }
   ],
   "source": [
    "room1.temperature"
   ]
  },
  {
   "cell_type": "code",
   "execution_count": 17,
   "id": "eb854271-e1bc-47fa-8aba-7d822c35e30c",
   "metadata": {},
   "outputs": [
    {
     "data": {
      "text/plain": [
       "'abc'"
      ]
     },
     "execution_count": 17,
     "metadata": {},
     "output_type": "execute_result"
    }
   ],
   "source": [
    "room1.temperature = 'abc'\n",
    "room1.temperature"
   ]
  },
  {
   "cell_type": "code",
   "execution_count": 44,
   "id": "f414b018-b60b-4327-85c9-4b671cfb6574",
   "metadata": {},
   "outputs": [
    {
     "data": {
      "text/plain": [
       "87"
      ]
     },
     "execution_count": 44,
     "metadata": {},
     "output_type": "execute_result"
    }
   ],
   "source": [
    "room1.humidity = 87\n",
    "room1.humidity"
   ]
  },
  {
   "cell_type": "code",
   "execution_count": 22,
   "id": "4e89a3dc-fc51-4f47-b818-02c4095477ac",
   "metadata": {},
   "outputs": [
    {
     "data": {
      "text/plain": [
       "{'temperature': 'abc', 'humidity': 87}"
      ]
     },
     "execution_count": 22,
     "metadata": {},
     "output_type": "execute_result"
    }
   ],
   "source": [
    "room1.__dict__"
   ]
  },
  {
   "cell_type": "code",
   "execution_count": 24,
   "id": "758622e5-451d-4731-a01c-623ff9a962c7",
   "metadata": {},
   "outputs": [],
   "source": [
    "celsius = {'temperature': 27 }\n",
    "\n",
    "def inc_temp(d):\n",
    "    d['temperature'] += 1"
   ]
  },
  {
   "cell_type": "markdown",
   "id": "3cb9fc82-f609-4860-822c-87a11d8807bb",
   "metadata": {},
   "source": [
    "## Class celsius with decorator"
   ]
  },
  {
   "cell_type": "code",
   "execution_count": 83,
   "id": "efb068fa-24c2-4a4e-b922-60edd74dc8cd",
   "metadata": {},
   "outputs": [],
   "source": [
    "class Celsius:\n",
    "\n",
    "    def __init__(self, temperature=0):\n",
    "        self._zero_kelvin = -273.15\n",
    "        self.temperature = temperature\n",
    "       \n",
    "    @property\n",
    "    def temperature(self):\n",
    "        return self._temperature\n",
    "\n",
    "    @temperature.setter\n",
    "    def temperature(self, temperature):\n",
    "\n",
    "        if not isinstance(temperature, (float, int)):\n",
    "            raise TypeError('Int or float!')\n",
    "\n",
    "        if temperature < self._zero_kelvin:\n",
    "            raise ValueError('Bellow zero')\n",
    "\n",
    "        self._temperature = temperature\n",
    "\n",
    "    def __str__(self):\n",
    "        return f'{self._temperature} \\u2103'\n",
    "\n",
    "    def __repr__(self):\n",
    "        return f'temperature: {self._temperature}'\n",
    "\n",
    "    @staticmethod\n",
    "    def is_below_zero(temperature):\n",
    "        return temperature < Celsius()._zero_kelvin\n",
    "\n",
    "    @classmethod\n",
    "    def from_fahrenheit(cls, fah_temp):\n",
    "        return cls((fah_temp - 32) * 5/9)"
   ]
  },
  {
   "cell_type": "code",
   "execution_count": 52,
   "id": "b9606868-3dd5-45c3-9bd5-726e1faa937e",
   "metadata": {},
   "outputs": [
    {
     "data": {
      "text/plain": [
       "0"
      ]
     },
     "execution_count": 52,
     "metadata": {},
     "output_type": "execute_result"
    }
   ],
   "source": [
    "main_room = Celsius()\n",
    "main_room.temperature"
   ]
  },
  {
   "cell_type": "code",
   "execution_count": 54,
   "id": "96f754dd-9059-4403-8fca-7ecbd4e78eca",
   "metadata": {},
   "outputs": [
    {
     "data": {
      "text/plain": [
       "{'_zero_kelvin': -273.16, '_temperature': 0}"
      ]
     },
     "execution_count": 54,
     "metadata": {},
     "output_type": "execute_result"
    }
   ],
   "source": [
    "main_room.__dict__\n",
    "main_room._zero_kelvin = -273.16\n",
    "main_room.__dict__"
   ]
  },
  {
   "cell_type": "code",
   "execution_count": 79,
   "id": "558c365a-5cd3-43a0-a0d9-16b62c4b9dd0",
   "metadata": {},
   "outputs": [
    {
     "data": {
      "text/plain": [
       "{'_zero_kelvin': -273.15, '_temperature': 25.6}"
      ]
     },
     "execution_count": 79,
     "metadata": {},
     "output_type": "execute_result"
    }
   ],
   "source": [
    "room2 = Celsius()\n",
    "room2.temperature = 25.6\n",
    "room2.__dict__"
   ]
  },
  {
   "cell_type": "code",
   "execution_count": 67,
   "id": "68ef86ba-ed50-4bdf-9665-4c25692a0b55",
   "metadata": {},
   "outputs": [
    {
     "data": {
      "text/plain": [
       "temperature: 25.6"
      ]
     },
     "execution_count": 67,
     "metadata": {},
     "output_type": "execute_result"
    }
   ],
   "source": [
    "room2"
   ]
  },
  {
   "cell_type": "code",
   "execution_count": 68,
   "id": "42d0dd5c-eca4-46c1-a3d2-dc2c81ff0bdf",
   "metadata": {},
   "outputs": [
    {
     "name": "stdout",
     "output_type": "stream",
     "text": [
      "25.6 ℃\n"
     ]
    }
   ],
   "source": [
    "print(room2)"
   ]
  },
  {
   "cell_type": "code",
   "execution_count": 70,
   "id": "aa6604e2-2fa5-4b56-968e-41e0f54e499e",
   "metadata": {},
   "outputs": [
    {
     "data": {
      "text/plain": [
       "-273.15"
      ]
     },
     "execution_count": 70,
     "metadata": {},
     "output_type": "execute_result"
    }
   ],
   "source": [
    "Celsius()._zero_kelvin"
   ]
  },
  {
   "cell_type": "code",
   "execution_count": 76,
   "id": "1f8e1809-6964-4326-b0b7-4566b0160424",
   "metadata": {},
   "outputs": [
    {
     "data": {
      "text/plain": [
       "True"
      ]
     },
     "execution_count": 76,
     "metadata": {},
     "output_type": "execute_result"
    }
   ],
   "source": [
    "Celsius.is_below_zero(-1000)"
   ]
  },
  {
   "cell_type": "code",
   "execution_count": 81,
   "id": "6526b64b-bbfe-42ae-a184-071ed68239d7",
   "metadata": {},
   "outputs": [
    {
     "data": {
      "text/plain": [
       "True"
      ]
     },
     "execution_count": 81,
     "metadata": {},
     "output_type": "execute_result"
    }
   ],
   "source": [
    "room2.is_below_zero(-1000)"
   ]
  },
  {
   "cell_type": "code",
   "execution_count": 85,
   "id": "f214fcd9-9060-4330-91a3-987b08cb638b",
   "metadata": {},
   "outputs": [
    {
     "data": {
      "text/plain": [
       "temperature: 37.77777777777778"
      ]
     },
     "execution_count": 85,
     "metadata": {},
     "output_type": "execute_result"
    }
   ],
   "source": [
    "room3 = Celsius.from_fahrenheit(100)\n",
    "room3"
   ]
  }
 ],
 "metadata": {
  "kernelspec": {
   "display_name": "Python 3 (ipykernel)",
   "language": "python",
   "name": "python3"
  },
  "language_info": {
   "codemirror_mode": {
    "name": "ipython",
    "version": 3
   },
   "file_extension": ".py",
   "mimetype": "text/x-python",
   "name": "python",
   "nbconvert_exporter": "python",
   "pygments_lexer": "ipython3",
   "version": "3.11.6"
  }
 },
 "nbformat": 4,
 "nbformat_minor": 5
}
