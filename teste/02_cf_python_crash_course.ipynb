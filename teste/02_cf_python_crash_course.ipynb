{
 "cells": [
  {
   "cell_type": "markdown",
   "id": "93a66d9a-3ea5-456f-8dd7-db160164e901",
   "metadata": {
    "editable": true,
    "slideshow": {
     "slide_type": ""
    },
    "tags": []
   },
   "source": [
    "# Python crash course\n",
    "---\n",
    "by: **César Freire** | *2023-12-06*"
   ]
  },
  {
   "cell_type": "markdown",
   "id": "f0b6e288-ae21-44cd-9cad-2118ea914249",
   "metadata": {},
   "source": [
    "## Variables\n",
    "\n",
    "* int\n",
    "* float\n",
    "* string\n",
    "* booleans"
   ]
  },
  {
   "cell_type": "code",
   "execution_count": null,
   "id": "29d5ae37-db58-4952-b313-0aaa3afd124e",
   "metadata": {},
   "outputs": [],
   "source": [
    "# int's\n",
    "port = 22\n",
    "port"
   ]
  },
  {
   "cell_type": "code",
   "execution_count": null,
   "id": "baa44d8d-9788-4ee4-a4ae-e72b4df497e1",
   "metadata": {},
   "outputs": [],
   "source": [
    "2+2"
   ]
  },
  {
   "cell_type": "code",
   "execution_count": null,
   "id": "84ffb444-9b88-45ed-84a3-efffbb412c31",
   "metadata": {},
   "outputs": [],
   "source": [
    "type(port)"
   ]
  },
  {
   "cell_type": "code",
   "execution_count": null,
   "id": "afa421bb-d0b5-4ea6-84c8-3da2f7a57734",
   "metadata": {},
   "outputs": [],
   "source": [
    "# recicle\n",
    "port = '22'\n",
    "type(port)"
   ]
  },
  {
   "cell_type": "code",
   "execution_count": null,
   "id": "72731a38-b2a5-4abb-a596-20d57ebbc13a",
   "metadata": {},
   "outputs": [],
   "source": [
    "# cast\n",
    "port = int('22')\n",
    "type(port)"
   ]
  },
  {
   "cell_type": "code",
   "execution_count": null,
   "id": "3a238d54-8842-4b87-bacd-b4b90d65b3bc",
   "metadata": {},
   "outputs": [],
   "source": [
    "abc = '123'\n",
    "boolean_abc = eval(abc)\n",
    "type(boolean_abc)"
   ]
  },
  {
   "cell_type": "code",
   "execution_count": null,
   "id": "c62aec65-cbd1-4bf7-a5ca-e87a219f3bb5",
   "metadata": {},
   "outputs": [],
   "source": [
    "17865497823469782364987236982376492387469283746"
   ]
  },
  {
   "cell_type": "code",
   "execution_count": null,
   "id": "7dca6b8e-0f75-4004-8e89-2a4fbd79534d",
   "metadata": {},
   "outputs": [],
   "source": [
    "2 ** 10_000  # 2^10000 "
   ]
  },
  {
   "cell_type": "code",
   "execution_count": null,
   "id": "dc7bda0c-ea7a-4fda-84e6-033649544f06",
   "metadata": {},
   "outputs": [],
   "source": [
    "# float\n",
    "timeout = 12.5\n",
    "type(timeout)"
   ]
  },
  {
   "cell_type": "code",
   "execution_count": 2,
   "id": "a82c2075-3cc6-4bc7-8632-e3ca0ce2b15e",
   "metadata": {},
   "outputs": [
    {
     "data": {
      "text/plain": [
       "bool"
      ]
     },
     "execution_count": 2,
     "metadata": {},
     "output_type": "execute_result"
    }
   ],
   "source": [
    "port_open = False  # True None\n",
    "type(port_open)"
   ]
  },
  {
   "cell_type": "code",
   "execution_count": null,
   "id": "6a183e83-06be-435d-9e09-ee413b867bac",
   "metadata": {},
   "outputs": [],
   "source": [
    "welcome_msg = 'Starting server v1.0'\n",
    "type(welcome_msg)"
   ]
  },
  {
   "cell_type": "code",
   "execution_count": null,
   "id": "90e63c64-e95c-49ee-bf4a-e6773394a1dd",
   "metadata": {},
   "outputs": [],
   "source": [
    "welcome_msg = \"Stoping server\"\n",
    "welcome_msg"
   ]
  },
  {
   "cell_type": "code",
   "execution_count": null,
   "id": "fc2ce07f-1bde-4862-a69f-d2f17d940738",
   "metadata": {},
   "outputs": [],
   "source": [
    "\"It's nine o'clock\""
   ]
  },
  {
   "cell_type": "code",
   "execution_count": null,
   "id": "2a9b924b-bb3a-400c-9b2f-fc9e7316549f",
   "metadata": {},
   "outputs": [],
   "source": [
    "' 23\" pol '"
   ]
  },
  {
   "cell_type": "markdown",
   "id": "ce1e4d5d-8ea5-445b-8a94-89197c1f94cc",
   "metadata": {},
   "source": [
    "## Jupyter namespace"
   ]
  },
  {
   "cell_type": "code",
   "execution_count": 3,
   "id": "d3f7c673-6e9e-4ec0-b188-7ea69f8e16bf",
   "metadata": {},
   "outputs": [
    {
     "name": "stdout",
     "output_type": "stream",
     "text": [
      "Variable    Type    Data/Info\n",
      "-----------------------------\n",
      "port_open   bool    False\n"
     ]
    }
   ],
   "source": [
    "%whos"
   ]
  },
  {
   "cell_type": "code",
   "execution_count": 4,
   "id": "2d22cec1-939e-4561-8870-299ccdc6e31c",
   "metadata": {},
   "outputs": [
    {
     "name": "stdout",
     "output_type": "stream",
     "text": [
      "01_cf_hello_world.ipynb  02_cf_python_crash_course.ipynb  plot_example.py\n"
     ]
    }
   ],
   "source": [
    "%ls"
   ]
  },
  {
   "cell_type": "code",
   "execution_count": null,
   "id": "ecb6a7b4-0938-45e8-ba37-e1e0e3db11d2",
   "metadata": {},
   "outputs": [],
   "source": []
  },
  {
   "cell_type": "markdown",
   "id": "074b78b6-ba0b-4c4c-9612-4e0b9781fcf3",
   "metadata": {},
   "source": [
    "### User input"
   ]
  },
  {
   "cell_type": "code",
   "execution_count": 9,
   "id": "7dddaeb7-17aa-4ebc-bc61-bc816defbc03",
   "metadata": {},
   "outputs": [
    {
     "name": "stdin",
     "output_type": "stream",
     "text": [
      "Name: abc\n"
     ]
    },
    {
     "name": "stdout",
     "output_type": "stream",
     "text": [
      "ABC\n",
      "Numeric dude!\n"
     ]
    }
   ],
   "source": [
    "name = input('Name:')\n",
    "print(name.upper())\n",
    "try:\n",
    "    int(name)\n",
    "except ValueError:\n",
    "    print('Numeric dude!')"
   ]
  },
  {
   "cell_type": "markdown",
   "id": "aba03521-b9fd-44bc-b06c-cfba63f8f250",
   "metadata": {},
   "source": [
    "## Libraries\n",
    "https://pypi.org/"
   ]
  },
  {
   "cell_type": "code",
   "execution_count": 10,
   "id": "39126a75-75dd-4af1-b029-cdb15cb2d793",
   "metadata": {},
   "outputs": [
    {
     "name": "stdout",
     "output_type": "stream",
     "text": [
      "Requirement already satisfied: numpy in /opt/conda/lib/python3.11/site-packages (1.24.4)\n",
      "Note: you may need to restart the kernel to use updated packages.\n"
     ]
    }
   ],
   "source": [
    "%pip install numpy"
   ]
  },
  {
   "cell_type": "code",
   "execution_count": 11,
   "id": "aa0b64d1-e007-4096-a10b-ea8f50a34280",
   "metadata": {},
   "outputs": [
    {
     "name": "stdout",
     "output_type": "stream",
     "text": [
      "The Zen of Python, by Tim Peters\n",
      "\n",
      "Beautiful is better than ugly.\n",
      "Explicit is better than implicit.\n",
      "Simple is better than complex.\n",
      "Complex is better than complicated.\n",
      "Flat is better than nested.\n",
      "Sparse is better than dense.\n",
      "Readability counts.\n",
      "Special cases aren't special enough to break the rules.\n",
      "Although practicality beats purity.\n",
      "Errors should never pass silently.\n",
      "Unless explicitly silenced.\n",
      "In the face of ambiguity, refuse the temptation to guess.\n",
      "There should be one-- and preferably only one --obvious way to do it.\n",
      "Although that way may not be obvious at first unless you're Dutch.\n",
      "Now is better than never.\n",
      "Although never is often better than *right* now.\n",
      "If the implementation is hard to explain, it's a bad idea.\n",
      "If the implementation is easy to explain, it may be a good idea.\n",
      "Namespaces are one honking great idea -- let's do more of those!\n"
     ]
    }
   ],
   "source": [
    "import this"
   ]
  },
  {
   "cell_type": "code",
   "execution_count": 12,
   "id": "c8826cbe-bf44-4fed-a92f-25720f64b2c0",
   "metadata": {},
   "outputs": [
    {
     "data": {
      "text/plain": [
       "'3.11.6 | packaged by conda-forge | (main, Oct  3 2023, 10:40:35) [GCC 12.3.0]'"
      ]
     },
     "execution_count": 12,
     "metadata": {},
     "output_type": "execute_result"
    }
   ],
   "source": [
    "import sys\n",
    "sys.version"
   ]
  },
  {
   "cell_type": "code",
   "execution_count": 13,
   "id": "3738034a-3a25-4cc0-9a44-5523f4344cec",
   "metadata": {},
   "outputs": [
    {
     "data": {
      "text/plain": [
       "'3.11.6 | packaged by conda-forge | (main, Oct  3 2023, 10:40:35) [GCC 12.3.0]'"
      ]
     },
     "execution_count": 13,
     "metadata": {},
     "output_type": "execute_result"
    }
   ],
   "source": [
    "from sys import version\n",
    "version"
   ]
  },
  {
   "cell_type": "code",
   "execution_count": 14,
   "id": "7f14a18b-47e5-435f-910c-d4e3b4a6a13b",
   "metadata": {},
   "outputs": [
    {
     "data": {
      "text/plain": [
       "'3.11.6 | packaged by conda-forge | (main, Oct  3 2023, 10:40:35) [GCC 12.3.0]'"
      ]
     },
     "execution_count": 14,
     "metadata": {},
     "output_type": "execute_result"
    }
   ],
   "source": [
    "from sys import version as ver\n",
    "ver"
   ]
  },
  {
   "cell_type": "code",
   "execution_count": 15,
   "id": "a660bab0-92af-405c-a93f-a572ef380a81",
   "metadata": {},
   "outputs": [
    {
     "data": {
      "text/plain": [
       "'3.11.6 | packaged by conda-forge | (main, Oct  3 2023, 10:40:35) [GCC 12.3.0]'"
      ]
     },
     "execution_count": 15,
     "metadata": {},
     "output_type": "execute_result"
    }
   ],
   "source": [
    "import sys as system\n",
    "system.version"
   ]
  },
  {
   "cell_type": "markdown",
   "id": "e26b4f29-9f34-40cd-b898-16e890b7ace9",
   "metadata": {},
   "source": [
    "## String evolution"
   ]
  },
  {
   "cell_type": "code",
   "execution_count": 16,
   "id": "7b20f723-cad7-43b8-acb3-77b1a87cfad7",
   "metadata": {},
   "outputs": [
    {
     "data": {
      "text/plain": [
       "sys.version_info(major=3, minor=11, micro=6, releaselevel='final', serial=0)"
      ]
     },
     "execution_count": 16,
     "metadata": {},
     "output_type": "execute_result"
    }
   ],
   "source": [
    "import sys\n",
    "sys.version_info"
   ]
  },
  {
   "cell_type": "code",
   "execution_count": 19,
   "id": "e342edcf-30a8-47ad-ba50-56b6591ab390",
   "metadata": {},
   "outputs": [
    {
     "name": "stdout",
     "output_type": "stream",
     "text": [
      "major=3 minor=11\n",
      "major=3 minor=11\n",
      "major=3 minor=11\n",
      "major=3 minor=11\n",
      "major=3 minor=11\n"
     ]
    }
   ],
   "source": [
    "major = sys.version_info[0]\n",
    "minor = sys.version_info[1]\n",
    "\n",
    "# python 2.7\n",
    "# print major\n",
    "\n",
    "# python 3.0\n",
    "print('major=' + str(major) + ' minor=' + str(minor))\n",
    "\n",
    "# python 3.2\n",
    "print('major=%i minor=%i' % (major, minor))\n",
    "\n",
    "# python 3.5\n",
    "print('major={} minor={}'.format(major, minor))\n",
    "\n",
    "# python 3.6\n",
    "print(f'major={major} minor={minor}')\n",
    "\n",
    "# python 3.8\n",
    "print(f'{major=} {minor=}')"
   ]
  },
  {
   "cell_type": "code",
   "execution_count": 27,
   "id": "53891b87-8269-4712-94c9-14cfbb18953c",
   "metadata": {},
   "outputs": [
    {
     "data": {
      "text/plain": [
       "1"
      ]
     },
     "execution_count": 27,
     "metadata": {},
     "output_type": "execute_result"
    }
   ],
   "source": [
    "9 % 4"
   ]
  },
  {
   "cell_type": "code",
   "execution_count": 29,
   "id": "f7697870-ddd1-435a-9eff-06a02ae4f0c9",
   "metadata": {},
   "outputs": [
    {
     "data": {
      "text/plain": [
       "2.25"
      ]
     },
     "execution_count": 29,
     "metadata": {},
     "output_type": "execute_result"
    }
   ],
   "source": [
    "from __future__ import division\n",
    "\n",
    "9 / 4"
   ]
  },
  {
   "cell_type": "code",
   "execution_count": 31,
   "id": "d784586c-9103-4e0e-9d28-97ce51ea9da6",
   "metadata": {},
   "outputs": [
    {
     "name": "stdout",
     "output_type": "stream",
     "text": [
      "4\n"
     ]
    }
   ],
   "source": [
    "from __future__ import print_function\n",
    "\n",
    "print(2+2)"
   ]
  },
  {
   "cell_type": "code",
   "execution_count": 32,
   "id": "3e67dfb4-feec-4073-b61c-cec876dced1c",
   "metadata": {},
   "outputs": [
    {
     "ename": "SyntaxError",
     "evalue": "not a chance (2546650324.py, line 1)",
     "output_type": "error",
     "traceback": [
      "\u001b[0;36m  Cell \u001b[0;32mIn[32], line 1\u001b[0;36m\u001b[0m\n\u001b[0;31m    from __future__ import braces\u001b[0m\n\u001b[0m    ^\u001b[0m\n\u001b[0;31mSyntaxError\u001b[0m\u001b[0;31m:\u001b[0m not a chance\n"
     ]
    }
   ],
   "source": [
    "from __future__ import braces "
   ]
  },
  {
   "cell_type": "markdown",
   "id": "d75dfdb5-1750-49c2-a77a-e5591f55bc9f",
   "metadata": {},
   "source": [
    "## Benchmark"
   ]
  },
  {
   "cell_type": "code",
   "execution_count": 33,
   "id": "4c2f0b70-3773-4d9f-9c78-fa5964cdd868",
   "metadata": {},
   "outputs": [
    {
     "name": "stdout",
     "output_type": "stream",
     "text": [
      "226 ns ± 4.52 ns per loop (mean ± std. dev. of 7 runs, 1,000,000 loops each)\n"
     ]
    }
   ],
   "source": [
    "%timeit 'major=' + str(major) + ' minor=' + str(minor)"
   ]
  },
  {
   "cell_type": "code",
   "execution_count": 35,
   "id": "d4dd2ae4-e09d-47be-a2d7-c693ddcf7638",
   "metadata": {},
   "outputs": [
    {
     "name": "stdout",
     "output_type": "stream",
     "text": [
      "194 ns ± 50.9 ns per loop (mean ± std. dev. of 7 runs, 10,000,000 loops each)\n"
     ]
    }
   ],
   "source": [
    "%timeit f'{major=} {minor=}'"
   ]
  },
  {
   "cell_type": "markdown",
   "id": "7c94e515-791a-4903-90ef-37bce7b7430b",
   "metadata": {},
   "source": [
    "## Python style guide\n",
    "https://peps.python.org/pep-0008/\n"
   ]
  },
  {
   "cell_type": "code",
   "execution_count": 36,
   "id": "fa2765af-8968-4c75-9016-1e80819f6fa5",
   "metadata": {},
   "outputs": [
    {
     "name": "stdout",
     "output_type": "stream",
     "text": [
      "Requirement already satisfied: flake8 in /opt/conda/lib/python3.11/site-packages (6.1.0)\n",
      "Requirement already satisfied: pycodestyle_magic in /opt/conda/lib/python3.11/site-packages (0.5)\n",
      "Requirement already satisfied: mccabe<0.8.0,>=0.7.0 in /opt/conda/lib/python3.11/site-packages (from flake8) (0.7.0)\n",
      "Requirement already satisfied: pycodestyle<2.12.0,>=2.11.0 in /opt/conda/lib/python3.11/site-packages (from flake8) (2.11.1)\n",
      "Requirement already satisfied: pyflakes<3.2.0,>=3.1.0 in /opt/conda/lib/python3.11/site-packages (from flake8) (3.1.0)\n",
      "Note: you may need to restart the kernel to use updated packages.\n"
     ]
    }
   ],
   "source": [
    "%pip install flake8 pycodestyle_magic"
   ]
  },
  {
   "cell_type": "code",
   "execution_count": 37,
   "id": "eaa25bc3-3b46-44ff-8e38-45e189f2de10",
   "metadata": {},
   "outputs": [],
   "source": [
    "%load_ext pycodestyle_magic"
   ]
  },
  {
   "cell_type": "code",
   "execution_count": 50,
   "id": "c976757b-647e-4bd1-87cf-b2a0da1c301d",
   "metadata": {},
   "outputs": [],
   "source": [
    "%pycodestyle_on"
   ]
  },
  {
   "cell_type": "code",
   "execution_count": 42,
   "id": "09e80faf-ae52-4396-9830-a5c9881ac0e2",
   "metadata": {},
   "outputs": [
    {
     "name": "stdout",
     "output_type": "stream",
     "text": [
      "10\n"
     ]
    }
   ],
   "source": [
    "# PEP8\n",
    "a = 10\n",
    "if a == 10:  # dummy test\n",
    "    print(a)"
   ]
  },
  {
   "cell_type": "code",
   "execution_count": 52,
   "id": "d4fe4ced-5cfe-49c3-8681-c599816cc025",
   "metadata": {},
   "outputs": [],
   "source": [
    "%pycodestyle_off"
   ]
  },
  {
   "cell_type": "markdown",
   "id": "28f26ed7-2f22-4b59-9f34-21a0d8aacb43",
   "metadata": {},
   "source": [
    "## Loop's and tests"
   ]
  },
  {
   "cell_type": "code",
   "execution_count": 44,
   "id": "bfa2e9e7-0b04-45e4-a154-c7ee2edd976f",
   "metadata": {},
   "outputs": [
    {
     "name": "stdout",
     "output_type": "stream",
     "text": [
      "0\n",
      "1\n",
      "2\n",
      "3\n",
      "4\n",
      "5\n",
      "6\n",
      "7\n",
      "8\n",
      "9\n"
     ]
    }
   ],
   "source": [
    "for x in range(10):\n",
    "    print(x)"
   ]
  },
  {
   "cell_type": "code",
   "execution_count": 53,
   "id": "680e775c-3280-4d45-92c0-2ddd7b0172c6",
   "metadata": {},
   "outputs": [
    {
     "name": "stdout",
     "output_type": "stream",
     "text": [
      "1, 2, 3, 4, 5, "
     ]
    }
   ],
   "source": [
    "for y in range(1, 6):\n",
    "    print(y, end=', ')"
   ]
  },
  {
   "cell_type": "code",
   "execution_count": 54,
   "id": "6f68aa48-5348-4ea4-bc84-530d921e82fb",
   "metadata": {},
   "outputs": [
    {
     "name": "stdout",
     "output_type": "stream",
     "text": [
      "10\n",
      "9\n",
      "8\n",
      "7\n",
      "6\n",
      "5\n",
      "4\n",
      "3\n",
      "2\n",
      "1\n"
     ]
    }
   ],
   "source": [
    "a = 10\n",
    "while a > 0:\n",
    "    print(a)\n",
    "    a -= 1"
   ]
  },
  {
   "cell_type": "code",
   "execution_count": 55,
   "id": "52985335-79d8-44f6-a6f4-31ec29b03d44",
   "metadata": {},
   "outputs": [
    {
     "name": "stdout",
     "output_type": "stream",
     "text": [
      "0\n",
      "1\n",
      "2\n",
      "3\n",
      "4\n",
      "5\n"
     ]
    }
   ],
   "source": [
    "for x in range(10):\n",
    "    print(x)\n",
    "    if x == 5:\n",
    "        break"
   ]
  },
  {
   "cell_type": "code",
   "execution_count": 56,
   "id": "79d62bc8-9d3f-4d43-b496-1fb779de3e1d",
   "metadata": {},
   "outputs": [
    {
     "name": "stdout",
     "output_type": "stream",
     "text": [
      "0\n",
      "1\n",
      "2\n",
      "3\n",
      "4\n",
      "6\n",
      "7\n",
      "8\n",
      "9\n"
     ]
    }
   ],
   "source": [
    "for x in range(10):\n",
    "    if x == 5:\n",
    "        continue\n",
    "    print(x)"
   ]
  },
  {
   "cell_type": "code",
   "execution_count": 60,
   "id": "b759e4d4-bd70-4b0d-a614-1aa2c2587d51",
   "metadata": {},
   "outputs": [],
   "source": [
    "for _ in range(10):\n",
    "    pass"
   ]
  },
  {
   "cell_type": "code",
   "execution_count": 61,
   "id": "b64d8254-2fb9-411f-a31f-b0eff8434b4d",
   "metadata": {},
   "outputs": [
    {
     "name": "stdout",
     "output_type": "stream",
     "text": [
      "a=b\n"
     ]
    }
   ],
   "source": [
    "a = 20\n",
    "b = 20\n",
    "\n",
    "if a > b:\n",
    "    print('a>b')\n",
    "elif a == b:\n",
    "    print('a=b')\n",
    "else:\n",
    "    print('a<b')"
   ]
  }
 ],
 "metadata": {
  "kernelspec": {
   "display_name": "Python 3 (ipykernel)",
   "language": "python",
   "name": "python3"
  },
  "language_info": {
   "codemirror_mode": {
    "name": "ipython",
    "version": 3
   },
   "file_extension": ".py",
   "mimetype": "text/x-python",
   "name": "python",
   "nbconvert_exporter": "python",
   "pygments_lexer": "ipython3",
   "version": "3.11.6"
  }
 },
 "nbformat": 4,
 "nbformat_minor": 5
}
